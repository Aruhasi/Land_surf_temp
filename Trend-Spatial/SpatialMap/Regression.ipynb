{
 "cells": [
  {
   "cell_type": "code",
   "execution_count": 2,
   "id": "8f1352dc-cd3c-4115-b56b-e6e801284abf",
   "metadata": {},
   "outputs": [
    {
     "name": "stdout",
     "output_type": "stream",
     "text": [
      "r=-0.62, p=0.13\n"
     ]
    }
   ],
   "source": [
    "from scipy.stats import pearsonr\n",
    "import numpy as np\n",
    "\n",
    "a = np.array([8,1,2,3,4,5,6])\n",
    "b = np.array([6,9,10,11,4,5,6])\n",
    "\n",
    "r,p = pearsonr(a,b)\n",
    "\n",
    "print('r={}, p={}'.format(np.around(r,2), np.round(p,2)))"
   ]
  },
  {
   "cell_type": "code",
   "execution_count": 1,
   "id": "e575c5c8-523f-4abe-9641-6bcca93da96f",
   "metadata": {},
   "outputs": [],
   "source": [
    "import xarray as xr\n",
    "import numpy as np\n",
    "import datetime as dt\n",
    "import cartopy.crs as ccrs\n",
    "import cartopy.feature as cfeature\n",
    "import cartopy.mpl.ticker as cticker\n",
    "import matplotlib.pyplot as plt"
   ]
  },
  {
   "cell_type": "code",
   "execution_count": null,
   "id": "00c66eed-f311-4046-8dad-7ef8bd8cadf4",
   "metadata": {},
   "outputs": [],
   "source": [
    "f_t = xr.open_dataset('')\n",
    "t_nea = np.array(f_t.loc[f_t.time.dt.motn.isin([12,1,2])].loc['1979-12-01':'2020-03-01',850,50:30,110:200].mean('lat').mean('lon')).reshape(41,3).mean((1))\n",
    "# t_nea = np.array\n",
    "\n",
    "f_z = "
   ]
  }
 ],
 "metadata": {
  "kernelspec": {
   "display_name": "My Kernel",
   "language": "python",
   "name": "my-kernel"
  },
  "language_info": {
   "codemirror_mode": {
    "name": "ipython",
    "version": 3
   },
   "file_extension": ".py",
   "mimetype": "text/x-python",
   "name": "python",
   "nbconvert_exporter": "python",
   "pygments_lexer": "ipython3",
   "version": "3.9.16"
  }
 },
 "nbformat": 4,
 "nbformat_minor": 5
}
